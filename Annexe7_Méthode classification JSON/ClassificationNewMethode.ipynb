{
 "cells": [
  {
   "cell_type": "markdown",
   "metadata": {},
   "source": [
    "# Solution de classification flèche/cible"
   ]
  },
  {
   "cell_type": "markdown",
   "metadata": {},
   "source": [
    "Les fichiers fournis par l'équipe de Medvir sont complet et regroupent toutes les combinaisons possible de flèche + cible désignant un symptome."
   ]
  },
  {
   "cell_type": "code",
   "execution_count": 55,
   "metadata": {},
   "outputs": [],
   "source": [
    "# Importe spaCy\n",
    "import spacy\n",
    "import json\n",
    "from spacy.matcher import PhraseMatcher\n",
    "\n",
    "from Levenshtein import distance\n",
    "\n",
    "# Crée un objet nlp français vide\n",
    "nlp = spacy.blank(\"fr\")\n",
    "\n",
    "# Charge le moyen pipeline français\n",
    "nlp = spacy.load(\"fr_core_news_md\")"
   ]
  },
  {
   "cell_type": "code",
   "execution_count": 56,
   "metadata": {},
   "outputs": [],
   "source": [
    "# Crée en traitant une chaine de caractères avec l'objet nlp\n",
    "doc = nlp(\"J'ai mal au ventre et une boule au niveau du nombril.\")"
   ]
  },
  {
   "cell_type": "markdown",
   "metadata": {},
   "source": [
    "On récupère le vocabulaire."
   ]
  },
  {
   "cell_type": "code",
   "execution_count": 57,
   "metadata": {},
   "outputs": [
    {
     "name": "stdout",
     "output_type": "stream",
     "text": [
      "{'flèche': {'absence': ['absence', 'pas de'], 'anomalie': ['plissé', 'flasque', 'étiré', 'élastique', 'anormale', 'anomalie', 'sclérosé', 'sclérose', 'plissement', 'étirement', 'élasticité'], 'arrêt': ['arrêt', 'blocage', 'bloqué', 'occlusion', 'subocclusion', 'obstacle', 'encombré', 'encombrement', 'empêchement', 'entrave'], 'bleu': ['bleu', 'ecchymose', 'hématome'], 'blocage': ['blocage', 'bloqué', 'coincé', 'coincement'], 'boule': ['boule'], 'boutons': ['anneau', 'plaque', 'macule', 'papule', 'vésicule', 'bulle', 'tache', 'urticaire', 'bubon', 'phlyctène', 'rash', 'éruption', 'abcès', 'urticaire', 'phlegmon', 'anthrax', 'cloque'], 'bruit': ['borborygmes', 'bruit', 'gargouillement', 'gargouillis', 'grincement', 'crissement', 'craquement', 'bruissement', 'détonation', 'explosion', 'éclatement', 'froissement', 'glouglou', 'grésillement', 'râle sifflement', 'tintement', 'vacarme', 'murmure'], 'brulure': ['brulure', 'brulé', 'cramé'], 'choc': ['baffe', 'choc', 'claque', 'cogné', 'contusion', 'coup', 'frappé', 'gnon', 'horion', 'pelle', 'râteau', 'trauma', 'traumatisé', 'traumatisme', 'coup de poing', 'coup de pied'], 'chute': ['chute', 'dégringoler', 'glisser', \"perdre l'équilibre\", \"s'étaler\", 'se casser la figure', 'se rompre le cou', 'tomber', 'trébucher', 'tombé', 'trébuché', 'viandé', 'cassé la gueule'], 'contraction': ['contraction', 'contracté'], 'crise': ['crise', 'critique', 'accès'], 'cyanose': ['cyanose', 'marbrure', 'bleu', 'bleuté', 'cyanotique'], 'déboitement': ['déboiter', 'luxé', 'luxation', 'déboitement'], 'déformation': ['déformation', 'déformé', 'tordu', 'explosé'], 'démangeaison': ['allergie', 'gratte', 'démangeaisons', 'grattage', 'gratte', 'gratter', 'prurit', 'prurigineux'], 'difficulté': ['difficultés', 'difficile', 'gêne', 'pénibilité', 'pénible', 'encombrement', 'obstacle', 'obstruction', 'empêchement', 'entrave', 'trouble', 'peine', 'blocage', 'bloqué'], 'douleur': ['douleur', 'mal', 'douloureux', 'douloureuse', 'maux', 'brulure', 'crampe', 'spasme', 'spasmodique', 'algie', 'ulcère', 'pesanteur', 'problème', 'troubles', 'coliques', 'aigreurs'], 'expectoration': ['crachat', 'crachats', 'craché', 'cracher', 'expectoré', 'expectoration'], 'ecoulement': ['ecoulement', 'coule', 'coulure', 'ruisselement', 'ruisselle', 'dégoulinade', 'coulage', 'dégouline', 'pus', 'purulent', 'pertes'], 'excès': ['excès', 'surcroit', 'supplément', 'surcharge', 'exagération'], 'gonflement': ['gonflé', 'gonflement', 'enflé', 'inflammation', 'inflammatoire', 'hydarthrose', 'hémarthrose'], 'grosseur': ['verrue', 'tumeur', 'tuméfaction', 'kyste', 'cancer'], 'infection': ['infection', 'infecté', 'infectieux', 'pus', 'purulent'], 'inflammation': ['inflammation', 'enflammé', 'inflammatoire'], 'intrusion': ['inhalé', 'inhalation', 'avalé', 'ingéré', 'absorbé', 'ingurgité', 'gobé', 'boire', 'enfoncé'], 'lésions': ['squame', 'ulcération', 'ulcère', 'chancre', 'lésion', 'lésionnel'], 'paralysie': ['paralysie', 'paralysé', 'parésie'], 'glaire': ['glaire', 'glaireux'], 'molle': ['molle', 'mollesse', 'mou'], 'liquide': ['liquide', 'aqueux', 'aqueuse'], 'ganglion': ['ganglion', 'adénopathie'], 'crampe': ['crampe']}, 'zone': {'coude': ['coude', 'cubital', 'radial'], 'hanche': ['hanche', 'cotyle'], 'ventre': ['ventre', 'abdomen', 'nombril', 'bide', 'adominal', 'hypochondre droit', 'hypochondre gauche', 'flanc droit', 'flanc gauche', 'fosse iliaque droite', 'fosse iliaque gauche', 'sus-pubienne', 'sus-pubien', 'épigastrique', 'plexus'], 'doigt': ['doigt', 'digital'], 'pouce': ['pouce'], 'index': ['index', 'deuxième doigt'], 'majeur': ['majeur', 'médius', 'troisième doigt'], 'annulaire': ['annulaire', 'quatrième doigt'], 'auriculaire': ['auriculaire', 'cinquième doigt'], 'épaule': ['épaule', 'scapulaire'], 'genou': ['genou'], 'rotule': ['rotule', 'rotulien'], 'cheville': ['cheville'], 'orteil': ['orteil'], 'vertèbre': ['vertèbre', 'vertébral'], 'yeux': ['œil', 'yeux', 'oculaire'], 'ongles': ['ongle', 'ungéal'], 'anus': ['anus', 'anal', 'anales', 'anaux', 'cul', 'fesses', 'fion'], 'aine': ['aine'], 'ombilic': ['ombilic', 'ombilical', 'nombril'], 'gorge': ['gorge'], 'sein': ['sein', 'mammaire', 'poitrine', 'roberts'], 'testicule': ['testicule', 'couilles', 'roubignoles', 'parties'], 'bras': ['bras', 'brachial', 'biceps', 'triceps', 'bicipital', 'tricipital'], 'avant-bras': ['avant-bras', 'antebrachial'], 'main': ['main', 'manuel'], 'jambe': ['jambe', 'jambier'], 'cuisse': ['cuisse'], 'nuque': ['nuque', 'nuqual'], 'poignet': ['poignet'], 'pied': ['pied', 'piétal'], 'oreille': ['oreille', 'auriculaire', 'tragus', 'pavillon', 'conduit auditif'], 'bouche': ['bouche', 'buccal'], 'pommettes': ['pommettes', 'malaire'], 'tempes': ['tempe', 'temporal'], 'occiput': ['occiput', 'ocipital'], 'nez': ['nez', 'nasal'], 'front': ['front', 'frontal'], 'mâchoire': ['mâchoire', 'massérer', 'massétérin'], 'verge': ['verge', 'pénis', 'braquemard', 'zob', 'pine', 'dick', 'popaul', 'prosper'], 'gencives': ['gencive', 'gingival', 'gingivaux'], 'aisselle': ['aisselle'], 'tragus': ['tragus', 'prétragien'], 'salière': ['salière', 'sus-claviculaire'], 'cou': ['cou', 'nuque', 'gorge', 'cervical', 'nuqual', 'cervicaux', 'nuquaux']}, 'organe': {'estomac': ['estomac', 'stomachal'], 'pancréas': ['pancréas', 'pancréatique'], 'rate': ['rate', 'splénique'], 'foie': ['foie', 'hépatique'], 'colon': ['colon', 'colique', 'gros intestin'], 'intestins': ['intestin grêle', 'intestins', 'boyaux', 'tripes'], 'appendice': ['appendice', 'appendiculaire'], 'vessie': ['vessie', 'vésical', 'vésicale'], 'utérus': ['utérus', 'utérin', 'utérine'], 'trompe': ['trompe', 'salpynx'], 'ovaire': ['ovaire', 'ovarien'], 'cholédoque': ['cholédoque', 'cholédoquien'], 'duodénum': ['duodénum', 'duodénal', 'water', 'watérien', 'duodénale'], 'col utérin': ['col utérin', 'cervical utérin'], 'diaphragme': ['diaphragme', 'diaphragmatique'], 'périnée': ['périnée', 'périnéal'], 'péritoine': ['péritoine', 'péritonéal', 'péritonéale'], 'plexus': ['plexus'], 'vésicule biliaire': ['vésicule biliaire', 'vésiculaire'], 'œil': ['globe oculaire', 'conjonctive', 'cornée', 'choroïde', 'cristallin', 'rétine', 'corps vitré', 'humeur vitrée', 'humeur aqueuse', 'nerf optique', 'procès ciliaires'], 'sein': ['sein', 'mammaire', 'glande mammaire'], 'testicule': ['testicule', 'couilles', 'roubignoles'], 'peau': ['peau', 'cutané'], 'poumon': ['pulmonaire', 'poumon', 'poumons', 'alvéolaire', 'alvéole', 'bronchioles'], 'bronches': ['bronche', 'bronches', 'bronchique'], 'trachée': ['trachéal', 'trachéale'], 'muscle': ['tous les muscles']}, 'fonction': {'digestion': ['digestive', 'digestif', 'digestion', 'digèrant'], 'articulaire': ['articulaire', 'articulation', 'jointure'], 'défécation': ['défécation', 'selles', 'caca', 'exonération'], 'fonction intestinale': ['intestinal', 'intestinaux', 'intestinales', 'intestinale'], 'sang': ['sang', 'sanguinolent', 'sanguin', 'sanguine', 'sanguinolente', 'sanglant', 'sanglante', 'cruorique', 'hémoglobineux', 'sérosanglant'], 'selles': ['selles', 'caca', 'défécation', 'crottes', 'merde'], 'déglutition': ['déglutition', 'avaler', 'déglutir', 'avalant'], 'alimentation': ['alimentation', 'nourrir', 'alimenter'], 'salivation': ['salive', 'salivation']}}\n"
     ]
    }
   ],
   "source": [
    "with open(\"fleche-cible.json\", encoding=\"utf8\") as f:\n",
    "    VOCABULAIRE = json.loads(f.read())\n",
    "\n",
    "print(VOCABULAIRE)"
   ]
  },
  {
   "cell_type": "markdown",
   "metadata": {},
   "source": [
    "On va créer un dictionnaire qui va nous permettre de receuillir toutes les informations dont on a besoin."
   ]
  },
  {
   "cell_type": "code",
   "execution_count": 58,
   "metadata": {},
   "outputs": [
    {
     "name": "stdout",
     "output_type": "stream",
     "text": [
      "{'mal': {'catégorie': 'flèche', 'index': 18}, 'ventre': {'catégorie': 'zone', 'index': 2}, 'boule': {'catégorie': 'flèche', 'index': 5}, 'nombril': {'catégorie': 'zone', 'index': 19}}\n"
     ]
    }
   ],
   "source": [
    "dictionnaire = {}\n",
    "text_reduit = []\n",
    "for token in doc :\n",
    "    for categorie, mots_associes in VOCABULAIRE.items():\n",
    "        for index, (mot_cle, synonymes) in enumerate(mots_associes.items()):\n",
    "            for synonyme in synonymes:\n",
    "                if str(token.lemma_) == synonyme : # regarde si le mot est dans le vocabulaire médicale\n",
    "                    dictionnaire[str(token.lemma_)] = {} # création dictionnaire \n",
    "                    dictionnaire[str(token.lemma_)][\"catégorie\"] = categorie # ajout de la catégorie du mot\n",
    "                    dictionnaire[str(token.lemma_)][\"index\"] = index # ajout de l'indice du mot\n",
    "                    text_reduit.append(str(token.lemma_))\n",
    "\n",
    "print(dictionnaire)\n"
   ]
  },
  {
   "cell_type": "markdown",
   "metadata": {},
   "source": [
    "On a créer notre dictionnaire avec les informations maintenant on va pourvoir les traiter plus facillement."
   ]
  },
  {
   "cell_type": "code",
   "execution_count": 59,
   "metadata": {},
   "outputs": [
    {
     "name": "stdout",
     "output_type": "stream",
     "text": [
      "[[18, 2, '*', '*'], [5, 19, '*', '*']]\n"
     ]
    }
   ],
   "source": [
    "codes = []\n",
    "\n",
    "for i, entite in enumerate(text_reduit): # on associe chaque flèche avec sa cible (la plus proche physiquement)\n",
    "    if (i != len(text_reduit)-1):\n",
    "        if dictionnaire[entite][\"catégorie\"] == \"flèche\" and (dictionnaire[text_reduit[i+1]][\"catégorie\"] == \"zone\" or dictionnaire[text_reduit[i+1]][\"catégorie\"] == \"organe\" or dictionnaire[text_reduit[i+1]][\"catégorie\"] == \"fonction\"):\n",
    "            if dictionnaire[text_reduit[i+1]][\"catégorie\"] == \"zone\":\n",
    "                codes.append([dictionnaire[entite][\"index\"], dictionnaire[text_reduit[i+1]][\"index\"], \"*\", \"*\"])\n",
    "            if dictionnaire[text_reduit[i+1]][\"catégorie\"] == \"organe\":\n",
    "                codes.append([dictionnaire[entite][\"index\"], \"*\", dictionnaire[text_reduit[i+1]][\"index\"], \"*\"])\n",
    "            if dictionnaire[text_reduit[i+1]][\"catégorie\"] == \"fonction\":\n",
    "                codes.append([dictionnaire[entite][\"index\"], \"*\", \"*\", dictionnaire[text_reduit[i+1]][\"index\"]])\n",
    "            text_reduit.pop(i+1)\n",
    "        elif (dictionnaire[entite][\"catégorie\"] == \"zone\" or dictionnaire[entite][\"catégorie\"] == \"organe\" or dictionnaire[entite][\"catégorie\"] == \"fonction\") and dictionnaire[text_reduit[i+1]][\"catégorie\"] == \"flèche\":\n",
    "            if dictionnaire[entite][\"catégorie\"] == \"zone\":\n",
    "                codes.append([dictionnaire[text_reduit[i+1]][\"index\"], dictionnaire[entite][\"index\"], \"*\", \"*\"])\n",
    "            if dictionnaire[entite][\"catégorie\"] == \"organe\":\n",
    "                codes.append([dictionnaire[text_reduit[i+1]][\"index\"], \"*\", dictionnaire[entite][\"index\"], \"*\"])\n",
    "            if dictionnaire[entite][\"catégorie\"] == \"fonction\":\n",
    "                codes.append([dictionnaire[text_reduit[i+1]][\"index\"], \"*\", \"*\", dictionnaire[entite][\"index\"]])\n",
    "            text_reduit.pop(i+1)\n",
    "        \n",
    "\n",
    "print(codes)"
   ]
  },
  {
   "cell_type": "markdown",
   "metadata": {},
   "source": [
    "Un fois qu'on à récupérer les codes on peut associer les codes à leur symptome."
   ]
  },
  {
   "cell_type": "code",
   "execution_count": 60,
   "metadata": {},
   "outputs": [
    {
     "name": "stdout",
     "output_type": "stream",
     "text": [
      "{'4': {'label': 'Articulation déboitée', 'resultat': [[14, 0, '*', '*'], [14, 1, '*', '*'], [14, 29, '*', '*'], [14, 3, '*', '*'], [14, 4, '*', '*'], [14, 5, '*', '*'], [14, 6, '*', '*'], [14, 7, '*', '*'], [14, 8, '*', '*'], [14, 9, '*', '*'], [14, 10, '*', '*'], [14, 12, '*', '*'], [14, 13, '*', '*'], [14, 14, '*', '*']]}, '5': {'label': 'Articulations gonflées', 'resultat': [[22, 0, '*', '*'], [22, 1, '*', '*'], [22, 29, '*', '*'], [22, 3, '*', '*'], [22, 4, '*', '*'], [22, 5, '*', '*'], [22, 6, '*', '*'], [22, 7, '*', '*'], [22, 8, '*', '*'], [22, 9, '*', '*'], [22, 10, '*', '*'], [22, 12, '*', '*'], [22, 13, '*', '*'], [22, 14, '*', '*'], [22, '*', '*', 1]]}, '6': {'label': 'Ballonnement', 'resultat': [[22, 2, '*', '*'], [22, '*', 4, '*'], [22, '*', 5, '*']]}, '0': {'label': '', 'resultat': [[3, 15, '*', '*'], [3, '*', 19, '*'], [3, 16, '*', '*'], [4, '*', '*', 2], [17, '*', '*', 2], [0, '*', '*', 2], [4, '*', 5, '*'], [4, '*', '*', 3], [15, '*', 22, '*'], [17, '*', '*', 7]]}, '8': {'label': 'Mal au ventre', 'resultat': [[18, 2, '*', '*'], [18, '*', 0, '*'], [18, '*', 1, '*'], [18, '*', 2, '*'], [18, '*', 3, '*'], [18, '*', 5, '*'], [18, '*', 6, '*'], [18, '*', 7, '*'], [18, '*', 18, '*'], [18, '*', 8, '*'], [18, '*', 9, '*'], [18, '*', 10, '*'], [18, '*', 4, '*'], [18, '*', 11, '*'], [18, '*', 12, '*'], [18, '*', 13, '*']]}, '9': {'label': \"Blocage d'une articulation\", 'resultat': [[4, 0, '*', '*'], [4, 1, '*', '*'], [4, 29, '*', '*'], [4, 3, '*', '*'], [4, 4, '*', '*'], [4, 5, '*', '*'], [4, 6, '*', '*'], [4, 7, '*', '*'], [4, 8, '*', '*'], [4, 9, '*', '*'], [4, 10, '*', '*'], [4, 12, '*', '*'], [4, 13, '*', '*'], [4, 14, '*', '*'], [4, '*', '*', 1]]}, '11': {'label': \"Boule à l'anus\", 'resultat': [[5, 17, '*', '*']]}, '12': {'label': \"Boule à l'aine\", 'resultat': [[5, 18, '*', '*']]}, '13': {'label': 'Boule au nombril', 'resultat': [[5, 19, '*', '*']]}, '14': {'label': 'Boule dans la gorge', 'resultat': [[5, 20, '*', '*']]}, '15': {'label': 'Boule dans le sein', 'resultat': [[5, 21, '*', '*'], [5, '*', 20, '*']]}, '16': {'label': 'Boule dans le testicule', 'resultat': [[5, 22, '*', '*'], [5, '*', 21, '*']]}, '17': {'label': 'Boutons', 'resultat': [[6, '*', 22, '*'], [6, 0, '*', '*'], [6, 1, '*', '*'], [6, 2, '*', '*'], [6, 3, '*', '*'], [6, 4, '*', '*'], [6, 5, '*', '*'], [6, 6, '*', '*'], [6, 7, '*', '*'], [6, 8, '*', '*'], [6, 9, '*', '*'], [6, 10, '*', '*'], [6, 11, '*', '*'], [6, 12, '*', '*'], [6, 13, '*', '*'], [6, 14, '*', '*'], [6, 15, '*', '*'], [6, 16, '*', '*'], [6, 17, '*', '*'], [6, 18, '*', '*'], [6, 19, '*', '*'], [6, 20, '*', '*'], [6, 21, '*', '*'], [6, 22, '*', '*'], [6, 23, '*', '*'], [6, 24, '*', '*'], [6, 25, '*', '*'], [6, 26, '*', '*'], [6, 27, '*', '*'], [6, 28, '*', '*'], [6, 29, '*', '*'], [6, 30, '*', '*'], [6, 31, '*', '*'], [6, 32, '*', '*'], [6, 33, '*', '*'], [6, 34, '*', '*'], [6, 35, '*', '*'], [6, 36, '*', '*'], [6, 37, '*', '*'], [6, 38, '*', '*'], [6, 39, '*', '*'], [6, 40, '*', '*'], [6, 41, '*', '*'], [6, 42, '*', '*'], [6, 43, '*', '*']]}, '18': {'label': 'Lésion', 'resultat': [[27, 0, '*', '*'], [27, 1, '*', '*'], [27, 2, '*', '*'], [27, 3, '*', '*'], [27, 4, '*', '*'], [27, 5, '*', '*'], [27, 6, '*', '*'], [27, 7, '*', '*'], [27, 8, '*', '*'], [27, 9, '*', '*'], [27, 10, '*', '*'], [27, 11, '*', '*'], [27, 12, '*', '*'], [27, 13, '*', '*'], [27, 14, '*', '*'], [27, 15, '*', '*'], [27, 16, '*', '*'], [27, 17, '*', '*'], [27, 18, '*', '*'], [27, 19, '*', '*'], [27, 20, '*', '*'], [27, 21, '*', '*'], [27, 22, '*', '*'], [27, 23, '*', '*'], [27, 24, '*', '*'], [27, 25, '*', '*'], [27, 26, '*', '*'], [27, 27, '*', '*'], [27, 28, '*', '*'], [27, 29, '*', '*'], [27, 30, '*', '*'], [27, 31, '*', '*'], [27, 32, '*', '*'], [27, 33, '*', '*'], [27, 34, '*', '*'], [27, 35, '*', '*'], [27, 36, '*', '*'], [27, 37, '*', '*'], [27, 38, '*', '*'], [27, 39, '*', '*'], [27, 40, '*', '*'], [27, 41, '*', '*'], [27, 42, '*', '*'], [27, 43, '*', '*'], [27, '*', 22, '*']]}, '19': {'label': 'Grosseur', 'resultat': [[23, '*', 22, '*'], [23, 0, '*', '*'], [23, 1, '*', '*'], [23, 2, '*', '*'], [23, 3, '*', '*'], [23, 4, '*', '*'], [23, 5, '*', '*'], [23, 6, '*', '*'], [23, 7, '*', '*'], [23, 8, '*', '*'], [23, 9, '*', '*'], [23, 10, '*', '*'], [23, 11, '*', '*'], [23, 12, '*', '*'], [23, 13, '*', '*'], [23, 14, '*', '*'], [23, 15, '*', '*'], [23, 16, '*', '*'], [23, 17, '*', '*'], [23, 18, '*', '*'], [23, 19, '*', '*'], [23, 20, '*', '*'], [23, 21, '*', '*'], [23, 22, '*', '*'], [23, 23, '*', '*'], [23, 24, '*', '*'], [23, 25, '*', '*'], [23, 26, '*', '*'], [23, 27, '*', '*'], [23, 28, '*', '*'], [23, 29, '*', '*'], [23, 30, '*', '*'], [23, 31, '*', '*'], [23, 32, '*', '*'], [23, 33, '*', '*'], [23, 34, '*', '*'], [23, 35, '*', '*'], [23, 36, '*', '*'], [23, 37, '*', '*'], [23, 38, '*', '*'], [23, 39, '*', '*'], [23, 40, '*', '*'], [23, 41, '*', '*'], [23, 42, '*', '*'], [23, 43, '*', '*']]}, '20': {'label': 'Anomalie de la peau', 'resultat': [[1, '*', 22, '*']]}, '21': {'label': \"Bruit d'estomac\", 'resultat': [[7, '*', 0, '*']]}, '22': {'label': 'Brulure', 'resultat': [[8, 0, '*', '*'], [8, 1, '*', '*'], [8, 2, '*', '*'], [8, 3, '*', '*'], [8, 4, '*', '*'], [8, 5, '*', '*'], [8, 6, '*', '*'], [8, 7, '*', '*'], [8, 8, '*', '*'], [8, 9, '*', '*'], [8, 10, '*', '*'], [8, 11, '*', '*'], [8, 12, '*', '*'], [8, 13, '*', '*'], [8, 14, '*', '*'], [8, 15, '*', '*'], [8, 16, '*', '*'], [8, 17, '*', '*'], [8, 18, '*', '*'], [8, 19, '*', '*'], [8, 20, '*', '*'], [8, 21, '*', '*'], [8, 22, '*', '*'], [8, 23, '*', '*'], [8, 24, '*', '*'], [8, 25, '*', '*'], [8, 26, '*', '*'], [8, 27, '*', '*'], [8, 28, '*', '*'], [8, 29, '*', '*'], [8, 30, '*', '*'], [8, 31, '*', '*'], [8, 32, '*', '*'], [8, 33, '*', '*'], [8, 34, '*', '*'], [8, 35, '*', '*'], [8, 36, '*', '*'], [8, 37, '*', '*'], [8, 38, '*', '*'], [8, 39, '*', '*'], [8, 40, '*', '*'], [8, 41, '*', '*'], [8, 42, '*', '*'], [8, 43, '*', '*']]}, '23': {'label': 'Choc', 'resultat': [[9, 0, '*', '*'], [9, 1, '*', '*'], [9, 2, '*', '*'], [9, 3, '*', '*'], [9, 4, '*', '*'], [9, 5, '*', '*'], [9, 6, '*', '*'], [9, 7, '*', '*'], [9, 8, '*', '*'], [9, 9, '*', '*'], [9, 10, '*', '*'], [9, 11, '*', '*'], [9, 12, '*', '*'], [9, 13, '*', '*'], [9, 14, '*', '*'], [9, 15, '*', '*'], [9, 16, '*', '*'], [9, 17, '*', '*'], [9, 18, '*', '*'], [9, 19, '*', '*'], [9, 20, '*', '*'], [9, 21, '*', '*'], [9, 22, '*', '*'], [9, 23, '*', '*'], [9, 24, '*', '*'], [9, 25, '*', '*'], [9, 26, '*', '*'], [9, 27, '*', '*'], [9, 28, '*', '*'], [9, 29, '*', '*'], [9, 30, '*', '*'], [9, 31, '*', '*'], [9, 32, '*', '*'], [9, 33, '*', '*'], [9, 34, '*', '*'], [9, 35, '*', '*'], [9, 36, '*', '*'], [9, 37, '*', '*'], [9, 38, '*', '*'], [9, 39, '*', '*'], [9, 40, '*', '*'], [9, 41, '*', '*'], [9, 42, '*', '*'], [9, 43, '*', '*']]}, '29': {'label': 'Contraction', 'resultat': [[11, '*', 8, '*']]}, '32': {'label': 'Crachats', 'resultat': [[19, '*', '*', 4]]}, '33': {'label': 'Crampe', 'resultat': [[33, 0, '*', '*'], [33, 1, '*', '*'], [33, 2, '*', '*'], [33, 3, '*', '*'], [33, 4, '*', '*'], [33, 5, '*', '*'], [33, 6, '*', '*'], [33, 7, '*', '*'], [33, 8, '*', '*'], [33, 9, '*', '*'], [33, 10, '*', '*'], [33, 11, '*', '*'], [33, 12, '*', '*'], [33, 13, '*', '*'], [33, 14, '*', '*'], [33, 15, '*', '*'], [33, 16, '*', '*'], [33, 17, '*', '*'], [33, 18, '*', '*'], [33, 19, '*', '*'], [33, 20, '*', '*'], [33, 21, '*', '*'], [33, 22, '*', '*'], [33, 23, '*', '*'], [33, 24, '*', '*'], [33, 25, '*', '*'], [33, 26, '*', '*'], [33, 27, '*', '*'], [33, 28, '*', '*'], [33, 29, '*', '*'], [33, 30, '*', '*'], [33, 31, '*', '*'], [33, 32, '*', '*'], [33, 33, '*', '*'], [33, 34, '*', '*'], [33, 35, '*', '*'], [33, 36, '*', '*'], [33, 37, '*', '*'], [33, 38, '*', '*'], [33, 39, '*', '*'], [33, 40, '*', '*'], [33, 41, '*', '*'], [33, 42, '*', '*'], [33, 43, '*', '*']]}, '34': {'label': 'Crise de paralysie', 'resultat': [[28, 0, '*', '*'], [28, 1, '*', '*'], [28, 2, '*', '*'], [28, 3, '*', '*'], [28, 4, '*', '*'], [28, 5, '*', '*'], [28, 6, '*', '*'], [28, 7, '*', '*'], [28, 8, '*', '*'], [28, 9, '*', '*'], [28, 10, '*', '*'], [28, 11, '*', '*'], [28, 12, '*', '*'], [28, 13, '*', '*'], [28, 14, '*', '*'], [28, 15, '*', '*'], [28, 16, '*', '*'], [28, 17, '*', '*'], [28, 18, '*', '*'], [28, 19, '*', '*'], [28, 20, '*', '*'], [28, 21, '*', '*'], [28, 22, '*', '*'], [28, 23, '*', '*'], [28, 24, '*', '*'], [28, 25, '*', '*'], [28, 26, '*', '*'], [28, 27, '*', '*'], [28, 28, '*', '*'], [28, 29, '*', '*'], [28, 30, '*', '*'], [28, 31, '*', '*'], [28, 32, '*', '*'], [28, 33, '*', '*'], [28, 34, '*', '*'], [28, 35, '*', '*'], [28, 36, '*', '*'], [28, 37, '*', '*'], [28, 38, '*', '*'], [28, 39, '*', '*'], [28, 40, '*', '*'], [28, 41, '*', '*'], [28, 42, '*', '*'], [28, 43, '*', '*']]}, '35': {'label': 'Cyanose', 'resultat': [[13, 0, '*', '*'], [13, 1, '*', '*'], [13, 2, '*', '*'], [13, 3, '*', '*'], [13, 4, '*', '*'], [13, 5, '*', '*'], [13, 6, '*', '*'], [13, 7, '*', '*'], [13, 8, '*', '*'], [13, 9, '*', '*'], [13, 10, '*', '*'], [13, 11, '*', '*'], [13, 12, '*', '*'], [13, 13, '*', '*'], [13, 14, '*', '*'], [13, 15, '*', '*'], [13, 16, '*', '*'], [13, 17, '*', '*'], [13, 18, '*', '*'], [13, 19, '*', '*'], [13, 20, '*', '*'], [13, 21, '*', '*'], [13, 22, '*', '*'], [13, 23, '*', '*'], [13, 24, '*', '*'], [13, 25, '*', '*'], [13, 26, '*', '*'], [13, 27, '*', '*'], [13, 28, '*', '*'], [13, 29, '*', '*'], [13, 30, '*', '*'], [13, 31, '*', '*'], [13, 32, '*', '*'], [13, 33, '*', '*'], [13, 34, '*', '*'], [13, 35, '*', '*'], [13, 36, '*', '*'], [13, 37, '*', '*'], [13, 38, '*', '*'], [13, 39, '*', '*'], [13, 40, '*', '*'], [13, 41, '*', '*'], [13, 42, '*', '*'], [13, 43, '*', '*']]}, '36': {'label': 'Déformation', 'resultat': [[15, 0, '*', '*'], [15, 1, '*', '*'], [15, 2, '*', '*'], [15, 3, '*', '*'], [15, 4, '*', '*'], [15, 5, '*', '*'], [15, 6, '*', '*'], [15, 7, '*', '*'], [15, 8, '*', '*'], [15, 9, '*', '*'], [15, 10, '*', '*'], [15, 11, '*', '*'], [15, 12, '*', '*'], [15, 13, '*', '*'], [15, 14, '*', '*'], [15, 15, '*', '*'], [15, 16, '*', '*'], [15, 17, '*', '*'], [15, 18, '*', '*'], [15, 19, '*', '*'], [15, 20, '*', '*'], [15, 21, '*', '*'], [15, 22, '*', '*'], [15, 23, '*', '*'], [15, 24, '*', '*'], [15, 25, '*', '*'], [15, 26, '*', '*'], [15, 27, '*', '*'], [15, 28, '*', '*'], [15, 29, '*', '*'], [15, 30, '*', '*'], [15, 31, '*', '*'], [15, 32, '*', '*'], [15, 33, '*', '*'], [15, 34, '*', '*'], [15, 35, '*', '*'], [15, 36, '*', '*'], [15, 37, '*', '*'], [15, 38, '*', '*'], [15, 39, '*', '*'], [15, 40, '*', '*'], [15, 41, '*', '*'], [15, 42, '*', '*'], [15, 43, '*', '*']]}, '38': {'label': 'Démangeaison', 'resultat': [[16, '*', 22, '*'], [16, 0, '*', '*'], [16, 1, '*', '*'], [16, 2, '*', '*'], [16, 3, '*', '*'], [16, 4, '*', '*'], [16, 5, '*', '*'], [16, 6, '*', '*'], [16, 7, '*', '*'], [16, 8, '*', '*'], [16, 9, '*', '*'], [16, 10, '*', '*'], [16, 11, '*', '*'], [16, 12, '*', '*'], [16, 13, '*', '*'], [16, 14, '*', '*'], [16, 15, '*', '*'], [16, 16, '*', '*'], [16, 17, '*', '*'], [16, 18, '*', '*'], [16, 19, '*', '*'], [16, 20, '*', '*'], [16, 21, '*', '*'], [16, 22, '*', '*'], [16, 23, '*', '*'], [16, 24, '*', '*'], [16, 25, '*', '*'], [16, 26, '*', '*'], [16, 27, '*', '*'], [16, 28, '*', '*'], [16, 29, '*', '*'], [16, 30, '*', '*'], [16, 31, '*', '*'], [16, 32, '*', '*'], [16, 33, '*', '*'], [16, 34, '*', '*'], [16, 35, '*', '*'], [16, 36, '*', '*'], [16, 37, '*', '*'], [16, 38, '*', '*'], [16, 39, '*', '*'], [16, 40, '*', '*'], [16, 41, '*', '*'], [16, 42, '*', '*'], [16, 43, '*', '*']]}, '40': {'label': 'diarrhée', 'resultat': [[29, '*', '*', 5], [30, '*', '*', 5], [31, '*', '*', 5], [24, '*', 5, '*'], [25, '*', 5, '*']]}, '41': {'label': 'difficulté pour avaler', 'resultat': [[17, '*', '*', 6]]}, '42': {'label': 'doigts gonflés', 'resultat': [[22, 4, '*', '*'], [22, 5, '*', '*'], [22, 6, '*', '*'], [22, 7, '*', '*'], [22, 8, '*', '*']]}, '43': {'label': \"Ecoulements de l'orelle\", 'resultat': [[20, 31, '*', '*']]}, '44': {'label': 'Ecoulement par la verge', 'resultat': [[20, 39, '*', '*']]}, '45': {'label': 'Ecoulement par les seins', 'resultat': [[20, 21, '*', '*']]}, '46': {'label': 'Ecoulement par les yeux', 'resultat': [[20, 15, '*', '*']]}, '49': {'label': 'Excès de salive', 'resultat': [[21, '*', '*', 8]]}, '50': {'label': 'Ganglions', 'resultat': [[32, 41, '*', '*'], [32, 38, '*', '*'], [32, 42, '*', '*'], [32, 18, '*', '*'], [32, 0, '*', '*'], [32, 10, '*', '*'], [32, 44, '*', '*']]}, '51': {'label': 'Gencives gonflées', 'resultat': [[22, 40, '*', '*']]}}\n"
     ]
    }
   ],
   "source": [
    "with open(\"resultats.json\", encoding=\"utf8\") as f:\n",
    "    RESULT = json.loads(f.read())\n",
    "\n",
    "print(RESULT)"
   ]
  },
  {
   "cell_type": "code",
   "execution_count": 61,
   "metadata": {},
   "outputs": [
    {
     "name": "stdout",
     "output_type": "stream",
     "text": [
      "Symptome : Mal au ventre, de code 8\n",
      "Symptome : Boule au nombril, de code 13\n",
      "['8', '13']\n"
     ]
    }
   ],
   "source": [
    "symptomes_med = []\n",
    "\n",
    "for c in codes :\n",
    "    for code, symptomes in RESULT.items() :\n",
    "        if c in symptomes[\"resultat\"] :\n",
    "            print(\"Symptome : \"+ symptomes[\"label\"] +\", de code \"+code)\n",
    "            symptomes_med.append(code)\n",
    "\n",
    "print(symptomes_med)"
   ]
  },
  {
   "cell_type": "markdown",
   "metadata": {},
   "source": [
    "On obtient bien le resultat attendu. On peut même garder une trace en créant un fichier json avec le dictionnaire ce qui pourrait nous permettre de créer une sauvegarde des plaintes patient. "
   ]
  }
 ],
 "metadata": {
  "kernelspec": {
   "display_name": "Python 3",
   "language": "python",
   "name": "python3"
  },
  "language_info": {
   "codemirror_mode": {
    "name": "ipython",
    "version": 3
   },
   "file_extension": ".py",
   "mimetype": "text/x-python",
   "name": "python",
   "nbconvert_exporter": "python",
   "pygments_lexer": "ipython3",
   "version": "3.10.8"
  }
 },
 "nbformat": 4,
 "nbformat_minor": 2
}
